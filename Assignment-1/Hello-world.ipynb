{
 "cells": [
  {
   "cell_type": "markdown",
   "metadata": {},
   "source": [
    "# Практическая работа 1.\n",
    "\n",
    "Пример использования некоторых функций, которые понадобятся для выполнения практической работы №1."
   ]
  },
  {
   "cell_type": "markdown",
   "metadata": {},
   "source": [
    "### Работа с NumPy"
   ]
  },
  {
   "cell_type": "code",
   "execution_count": 1,
   "metadata": {},
   "outputs": [
    {
     "name": "stdout",
     "output_type": "stream",
     "text": [
      "Array example:\n",
      "[-55 -92  63 -23 -38 -40 -62  37  98  18  71 -67 -88 -45 -21  94  80  19\n",
      "  70 -29 -49  -6  31  90  23  78  61  25  53  20 -44  99  32 -27   5 -86\n",
      " -80 -10  98  20 -36 -67  44 -30  75 -31 -86 -70  81 -48]\n",
      "Same array example\n",
      "[-55 -92  63 -23 -38 -40 -62  37  98  18  71 -67 -88 -45 -21  94  80  19\n",
      "  70 -29 -49  -6  31  90  23  78  61  25  53  20 -44  99  32 -27   5 -86\n",
      " -80 -10  98  20 -36 -67  44 -30  75 -31 -86 -70  81 -48]\n",
      "[ 55  92 -63  23  38  40  62 -37 -98 -18 -71  67  88  45  21 -94 -80 -19\n",
      " -70  29  49   6 -31 -90 -23 -78 -61 -25 -53 -20  44 -99 -32  27  -5  86\n",
      "  80  10 -98 -20  36  67 -44  30 -75  31  86  70 -81  48]\n",
      "[ 55  92 -63  23  38  40  62 -37 -98  18 -71  67  88  45  21 -94 -80  19\n",
      " -70  29  49  -6 -31 -90 -23 -78 -61 -25 -53 -20  44 -99 -32  27   5  86\n",
      "  80 -10 -98 -20  36  67 -44  30 -75  31  86  70 -81  48]\n"
     ]
    }
   ],
   "source": [
    "import numpy as np\n",
    "n = 50\n",
    "array = np.random.randint(-100, 100, size=(n))\n",
    "print \"Array example:\"\n",
    "print array\n",
    "print(\"Same array example\")\n",
    "print(array)\n",
    "\n",
    "x = np.array(array)\n",
    "x[:] *= -1\n",
    "y = np.array(x)\n",
    "y[(y > -20) & (y < 20)] *= -1\n",
    "print x\n",
    "print y"
   ]
  },
  {
   "cell_type": "markdown",
   "metadata": {},
   "source": [
    "### Работа с Matplotlib"
   ]
  },
  {
   "cell_type": "code",
   "execution_count": 2,
   "metadata": {},
   "outputs": [
    {
     "data": {
      "image/png": "[encoded data removed]",
      "text/plain": [
       "<matplotlib.figure.Figure at 0x7fdfb4364ad0>"
      ]
     },
     "metadata": {},
     "output_type": "display_data"
    }
   ],
   "source": [
    "import matplotlib.pyplot as plt\n",
    "plt.plot(x, y, 'go')\n",
    "plt.show()"
   ]
  }
 ],
 "metadata": {
  "kernelspec": {
   "display_name": "Python 2",
   "language": "python",
   "name": "python2"
  },
  "language_info": {
   "codemirror_mode": {
    "name": "ipython",
    "version": 2
   },
   "file_extension": ".py",
   "mimetype": "text/x-python",
   "name": "python",
   "nbconvert_exporter": "python",
   "pygments_lexer": "ipython2",
   "version": "2.7.12"
  }
 },
 "nbformat": 4,
 "nbformat_minor": 2
}
